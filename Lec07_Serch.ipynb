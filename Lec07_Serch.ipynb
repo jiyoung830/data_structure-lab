{
  "nbformat": 4,
  "nbformat_minor": 0,
  "metadata": {
    "colab": {
      "provenance": [],
      "authorship_tag": "ABX9TyMwumI30OYO1aDU9a8M3725",
      "include_colab_link": true
    },
    "kernelspec": {
      "name": "python3",
      "display_name": "Python 3"
    },
    "language_info": {
      "name": "python"
    }
  },
  "cells": [
    {
      "cell_type": "markdown",
      "metadata": {
        "id": "view-in-github",
        "colab_type": "text"
      },
      "source": [
        "<a href=\"https://colab.research.google.com/github/jiyoung830/data_structure-lab/blob/master/Lec07_Serch.ipynb\" target=\"_parent\"><img src=\"https://colab.research.google.com/assets/colab-badge.svg\" alt=\"Open In Colab\"/></a>"
      ]
    },
    {
      "cell_type": "markdown",
      "source": [
        "1.Multiplication Method"
      ],
      "metadata": {
        "id": "nKRR1mrSqKyH"
      }
    },
    {
      "cell_type": "code",
      "source": [
        "import math\n",
        "def multiplication_hash(k,m,A=(math.sqrt(5)-1/2)):\n",
        "  frac = k * A % 1\n",
        "  return math.floor(m * frac)"
      ],
      "metadata": {
        "id": "TQUZaoKGqJ1X"
      },
      "execution_count": null,
      "outputs": []
    },
    {
      "cell_type": "markdown",
      "source": [
        "2. Folding Method"
      ],
      "metadata": {
        "id": "ecmVdtQ2qBZB"
      }
    },
    {
      "cell_type": "code",
      "source": [
        "import math\n",
        "def folding_hash(k,m, group = 2):\n",
        "  base = 10 ** group\n",
        "  s = 0\n",
        "  while k>0 :\n",
        "    s+= k % base\n",
        "    k //= base\n",
        "  return s % m\n",
        "\n"
      ],
      "metadata": {
        "id": "qlECH3H5qk3W"
      },
      "execution_count": null,
      "outputs": []
    },
    {
      "cell_type": "markdown",
      "source": [
        "3. Mid-squaare Method"
      ],
      "metadata": {
        "id": "Xh8kJTUCqGYA"
      }
    },
    {
      "cell_type": "code",
      "source": [
        "import math\n",
        "def  mid_square_hash(k,m):\n",
        "  s = k ** 2\n",
        "  mid = (len(str(s))//2)    # 가운데 위치\n",
        "  return int(str(s)[mid:mid+2]) % m\n"
      ],
      "metadata": {
        "id": "DEHS-TIVrAMd"
      },
      "execution_count": null,
      "outputs": []
    },
    {
      "cell_type": "code",
      "source": [
        "m = 16\n",
        "keys = [123,125,616]\n",
        "print(\"key | mult | fold | mid\")\n",
        "for k in keys:\n",
        "  print(f\"{k} | {multiplication_hash(k,m)} | {folding_hash(k,m)} | {mid_square_hash(k,m)}\")"
      ],
      "metadata": {
        "colab": {
          "base_uri": "https://localhost:8080/"
        },
        "id": "49ZKj-Uorfxs",
        "outputId": "ef693560-9f6f-4aaa-95f2-9e0b1126ba4e"
      },
      "execution_count": null,
      "outputs": [
        {
          "output_type": "stream",
          "name": "stdout",
          "text": [
            "key | mult | fold | mid\n",
            "123 | 8 | 8 | 12\n",
            "125 | 0 | 10 | 14\n",
            "616 | 6 | 6 | 13\n"
          ]
        }
      ]
    },
    {
      "cell_type": "markdown",
      "source": [
        "6. Hashing\n"
      ],
      "metadata": {
        "id": "zykEnOfBpYiq"
      }
    },
    {
      "cell_type": "markdown",
      "source": [
        "hashing a string"
      ],
      "metadata": {
        "id": "-YqCr6CLpo_3"
      }
    },
    {
      "cell_type": "code",
      "source": [
        "ord('c')"
      ],
      "metadata": {
        "colab": {
          "base_uri": "https://localhost:8080/"
        },
        "id": "hdHG_xnIpntw",
        "outputId": "f6539bcf-02ad-4bcf-8537-aa77b60b644d"
      },
      "execution_count": null,
      "outputs": [
        {
          "output_type": "execute_result",
          "data": {
            "text/plain": [
              "99"
            ]
          },
          "metadata": {},
          "execution_count": 1
        }
      ]
    },
    {
      "cell_type": "code",
      "source": [
        "ord('a')"
      ],
      "metadata": {
        "colab": {
          "base_uri": "https://localhost:8080/"
        },
        "id": "0gtg2JFkpw_V",
        "outputId": "10005329-9b97-48cf-d0be-b7eb9eb11daa"
      },
      "execution_count": null,
      "outputs": [
        {
          "output_type": "execute_result",
          "data": {
            "text/plain": [
              "97"
            ]
          },
          "metadata": {},
          "execution_count": 2
        }
      ]
    },
    {
      "cell_type": "code",
      "source": [
        "ord('t')"
      ],
      "metadata": {
        "colab": {
          "base_uri": "https://localhost:8080/"
        },
        "id": "GCe9oBqypwvD",
        "outputId": "649f61fe-1cd6-4933-deb7-7bbc73f97638"
      },
      "execution_count": null,
      "outputs": [
        {
          "output_type": "execute_result",
          "data": {
            "text/plain": [
              "116"
            ]
          },
          "metadata": {},
          "execution_count": 3
        }
      ]
    },
    {
      "cell_type": "code",
      "source": [
        "def hash(a_string, table_size):\n",
        "  sum = 0\n",
        "  for pos in range(len(a_string)):\n",
        "    sum = sum + pos*ord(a_string[pos])\n",
        "\n",
        "  return sum % table_size"
      ],
      "metadata": {
        "id": "FynJUrpssuR0"
      },
      "execution_count": 1,
      "outputs": []
    },
    {
      "cell_type": "code",
      "source": [
        "class HashTable:\n",
        "  def __init__(self,size=11) :\n",
        "    self.size = size\n",
        "    self.slots = [None] * self.size\n",
        "    self.data = [None] * self.size\n",
        "\n",
        "  def put(self,key,data):\n",
        "    hash_value = self.hash_function(key,len(self.slots))\n",
        "\n",
        "    if self.slots[hash_value] == None:   # 해당  hash_value 자리가 비어있으면\n",
        "      self.slots[hash_value] = key\n",
        "      self.data[hash_value] = data\n",
        "    else:                                 # 해당  hash_value 자리에 이미 존재하면\n",
        "      if self.slots[hash_value] == key:   # 같은 Key이면\n",
        "        self.data[hash_value] = data      # replace\n",
        "      else:                               # 같은 Key가 아니면 nesxt slot 찾아야 함\n",
        "        next_slot = self.rehash(hash_value,len(self.slots))       # rehash\n",
        "        #비어있지 않고 key랑 다른 경우 반복\n",
        "        while self.slots[next_slot] != None and self.slots[next_slot] != key :\n",
        "          next_slot = self.rehash(next_slot,len(self.slots))\n",
        "\n",
        "        if self.slots[next_slot] == None:\n",
        "          self.slots[next_slot] = key\n",
        "          self.data[next_slot] = data\n",
        "        else:\n",
        "          self.data[next_slot] = data     #replace\n",
        "\n",
        "  def hash_function(self,key,size):\n",
        "    return key % size\n",
        "\n",
        "  def rehash(self,old_hash,size):\n",
        "    return (old_hash+1) % size\n",
        "\n",
        "  def get(self,key):\n",
        "    start_slot = self.hash_function(key,len(self.slots))\n",
        "    data = None\n",
        "    stop = False\n",
        "    found = False\n",
        "    position = start_slot\n",
        "    while self.slots[position] != None and not found and not stop:\n",
        "      if self.slots[position] == key:\n",
        "        found = True\n",
        "        data = self.data[position]\n",
        "      else:\n",
        "        position = self.rehash(position,len(self.slots))\n",
        "        if position == start_slot:\n",
        "          stop = True\n",
        "    return data\n",
        "\n",
        "  def __getitem__(self,key):\n",
        "    return self.get(key)\n",
        "\n",
        "  def __setitem__(self,key,data):\n",
        "    self.put(key,data)"
      ],
      "metadata": {
        "id": "KJ96LfjzPHu1"
      },
      "execution_count": 14,
      "outputs": []
    },
    {
      "cell_type": "code",
      "source": [
        "h=HashTable()"
      ],
      "metadata": {
        "id": "nzxM__TtUkna"
      },
      "execution_count": 21,
      "outputs": []
    },
    {
      "cell_type": "code",
      "source": [
        "h[54] = \"cat\"\n",
        "h[26] = \"dog\"\n",
        "h[93] = \"lion\"\n",
        "h[17] = \"tiger\"\n",
        "h[77] = \"bird\"\n",
        "h[31] = \"cow\"\n",
        "h[44] = \"goat\"\n",
        "h[55] = \"pig\"\n",
        "h[20] = \"chicken\""
      ],
      "metadata": {
        "id": "YmyxNMVoU3Qf"
      },
      "execution_count": 22,
      "outputs": []
    },
    {
      "cell_type": "code",
      "source": [
        "h.slots"
      ],
      "metadata": {
        "colab": {
          "base_uri": "https://localhost:8080/"
        },
        "id": "BMSkrYICVOzw",
        "outputId": "7ee6cf89-f291-4c71-96d9-73d9832639fd"
      },
      "execution_count": 23,
      "outputs": [
        {
          "output_type": "execute_result",
          "data": {
            "text/plain": [
              "[77, 44, 55, 20, 26, 93, 17, None, None, 31, 54]"
            ]
          },
          "metadata": {},
          "execution_count": 23
        }
      ]
    },
    {
      "cell_type": "code",
      "source": [
        "h.data"
      ],
      "metadata": {
        "colab": {
          "base_uri": "https://localhost:8080/"
        },
        "id": "LK7f--_oVetU",
        "outputId": "bed93b36-aab2-48b3-e1f9-a1f99c6c102f"
      },
      "execution_count": 24,
      "outputs": [
        {
          "output_type": "execute_result",
          "data": {
            "text/plain": [
              "['bird',\n",
              " 'goat',\n",
              " 'pig',\n",
              " 'chicken',\n",
              " 'dog',\n",
              " 'lion',\n",
              " 'tiger',\n",
              " None,\n",
              " None,\n",
              " 'cow',\n",
              " 'cat']"
            ]
          },
          "metadata": {},
          "execution_count": 24
        }
      ]
    },
    {
      "cell_type": "code",
      "source": [
        "h[20]"
      ],
      "metadata": {
        "colab": {
          "base_uri": "https://localhost:8080/",
          "height": 35
        },
        "id": "QsTqXX6YViHs",
        "outputId": "e575138f-d96b-455c-89f8-f3881ef923fb"
      },
      "execution_count": 25,
      "outputs": [
        {
          "output_type": "execute_result",
          "data": {
            "text/plain": [
              "'chicken'"
            ],
            "application/vnd.google.colaboratory.intrinsic+json": {
              "type": "string"
            }
          },
          "metadata": {},
          "execution_count": 25
        }
      ]
    },
    {
      "cell_type": "code",
      "source": [
        "h.put(20,\"deer\")"
      ],
      "metadata": {
        "id": "_3NyV4EOVjtf"
      },
      "execution_count": 27,
      "outputs": []
    },
    {
      "cell_type": "code",
      "source": [
        "h.data"
      ],
      "metadata": {
        "colab": {
          "base_uri": "https://localhost:8080/"
        },
        "id": "6EtVG0d0YAl8",
        "outputId": "e9a2ccfc-34c4-46e0-be78-e0bfa37d9893"
      },
      "execution_count": 28,
      "outputs": [
        {
          "output_type": "execute_result",
          "data": {
            "text/plain": [
              "['bird',\n",
              " 'goat',\n",
              " 'pig',\n",
              " 'deer',\n",
              " 'dog',\n",
              " 'lion',\n",
              " 'tiger',\n",
              " None,\n",
              " None,\n",
              " 'cow',\n",
              " 'cat']"
            ]
          },
          "metadata": {},
          "execution_count": 28
        }
      ]
    },
    {
      "cell_type": "code",
      "source": [
        "h.put(31,\"monkey\")"
      ],
      "metadata": {
        "id": "NPEDtVM6YIpM"
      },
      "execution_count": 30,
      "outputs": []
    },
    {
      "cell_type": "code",
      "source": [
        "h.data"
      ],
      "metadata": {
        "colab": {
          "base_uri": "https://localhost:8080/"
        },
        "id": "HM66L04kYNuo",
        "outputId": "d7744434-3455-42a4-e66a-1f5fea3d44e5"
      },
      "execution_count": 31,
      "outputs": [
        {
          "output_type": "execute_result",
          "data": {
            "text/plain": [
              "['bird',\n",
              " 'goat',\n",
              " 'pig',\n",
              " 'deer',\n",
              " 'dog',\n",
              " 'lion',\n",
              " 'tiger',\n",
              " None,\n",
              " None,\n",
              " 'monkey',\n",
              " 'cat']"
            ]
          },
          "metadata": {},
          "execution_count": 31
        }
      ]
    },
    {
      "cell_type": "code",
      "source": [
        "h.put(36,\"hipo\")"
      ],
      "metadata": {
        "id": "VT2mt6uyYSf5"
      },
      "execution_count": 32,
      "outputs": []
    },
    {
      "cell_type": "code",
      "source": [
        "h.data"
      ],
      "metadata": {
        "colab": {
          "base_uri": "https://localhost:8080/"
        },
        "id": "4vs_5uUCYbLy",
        "outputId": "695b3be2-2fec-44ce-82dc-7932ade7b07d"
      },
      "execution_count": 33,
      "outputs": [
        {
          "output_type": "execute_result",
          "data": {
            "text/plain": [
              "['bird',\n",
              " 'goat',\n",
              " 'pig',\n",
              " 'deer',\n",
              " 'dog',\n",
              " 'lion',\n",
              " 'tiger',\n",
              " 'hipo',\n",
              " None,\n",
              " 'monkey',\n",
              " 'cat']"
            ]
          },
          "metadata": {},
          "execution_count": 33
        }
      ]
    },
    {
      "cell_type": "code",
      "source": [
        "print(h[77])"
      ],
      "metadata": {
        "colab": {
          "base_uri": "https://localhost:8080/"
        },
        "id": "oG_ATZ0eYgYw",
        "outputId": "97f2b0e4-8fd0-4f23-8741-70f13ccb02a8"
      },
      "execution_count": 34,
      "outputs": [
        {
          "output_type": "stream",
          "name": "stdout",
          "text": [
            "bird\n"
          ]
        }
      ]
    },
    {
      "cell_type": "code",
      "source": [
        "print(h[99])"
      ],
      "metadata": {
        "colab": {
          "base_uri": "https://localhost:8080/"
        },
        "id": "DRuiS-eXYlqD",
        "outputId": "67be8384-f91d-4776-e108-df4163a68dca"
      },
      "execution_count": 35,
      "outputs": [
        {
          "output_type": "stream",
          "name": "stdout",
          "text": [
            "None\n"
          ]
        }
      ]
    },
    {
      "cell_type": "markdown",
      "source": [
        "7.Binary Search Vs. Hashing"
      ],
      "metadata": {
        "id": "lscLu05-Yp3b"
      }
    },
    {
      "cell_type": "code",
      "source": [
        "import timeit\n",
        "import random\n",
        "import matplotlib.pyplot as plt"
      ],
      "metadata": {
        "id": "V62Wb7W9dUiq"
      },
      "execution_count": 51,
      "outputs": []
    },
    {
      "cell_type": "code",
      "source": [
        "class HashTable:                                    # 1번 해결: HashTable 클래스 정의\n",
        "    def __init__(self, size):\n",
        "        self.size = size\n",
        "        self.table = [None] * size\n",
        "\n",
        "    def __setitem__(self, key, value):\n",
        "        index = key % self.size\n",
        "        self.table[index] = value\n",
        "\n",
        "    def __getitem__(self, key):\n",
        "        index = key % self.size\n",
        "        return self.table[index]"
      ],
      "metadata": {
        "id": "yTR-i4zDde_2"
      },
      "execution_count": 53,
      "outputs": []
    },
    {
      "cell_type": "code",
      "source": [
        "# 3번 해결: binary_search 함수 정의\n",
        "def binary_search(lst, target):\n",
        "    low = 0\n",
        "    high = len(lst) - 1\n",
        "    while low <= high:\n",
        "        mid = (low + high) // 2\n",
        "        if lst[mid] == target:\n",
        "            return mid\n",
        "        elif lst[mid] < target:\n",
        "            low = mid + 1\n",
        "        else:\n",
        "            high = mid - 1\n",
        "    return -1\n"
      ],
      "metadata": {
        "id": "T-CFjaSXdsHr"
      },
      "execution_count": 55,
      "outputs": []
    },
    {
      "cell_type": "code",
      "source": [
        "def prep_ht(size):\n",
        "  ht = HashTable(size)\n",
        "  for x in range(size):\n",
        "    ht[x] = x             # 키 값 x를 저장\n",
        "  return ht"
      ],
      "metadata": {
        "id": "3l1EzRO0YpN7"
      },
      "execution_count": 54,
      "outputs": []
    },
    {
      "cell_type": "code",
      "source": [
        "def time_bin_search(size):\n",
        "  return timeit.timeit('binary_search(lst,random.randrange({}))'.format(size),        #interpolate\n",
        "                     'import random ; from __main__ import binary_search ;'\n",
        "                     'lst = [x for x in range({})]'.format(size),                      # interpolate size into\n",
        "                     number=50)\n",
        "\n",
        "def time_hash(size):\n",
        "  return timeit.timeit('ht[random.randrange({})]'.format(size),\n",
        "                     'import random ; from __main__ import prep_ht ;'\n",
        "                     'ht = prep_ht({})'.format(size),\n",
        "                     number=50)\n",
        "\n",
        "bin_search_timings = [time_bin_search(n) for n in range(10,10000,100)]\n",
        "hash_timings = [time_hash(n) for n in range(10,10000,100)]"
      ],
      "metadata": {
        "id": "DoWdvp4NY7Oq"
      },
      "execution_count": 56,
      "outputs": []
    },
    {
      "cell_type": "code",
      "source": [
        "plt.xlabel('Size of input(n)', fontsize= 16)\n",
        "plt.ylabel('Time', fontsize= 16)\n",
        "plt.title('Binary Search Vs. Hashing', fontsize= 20)\n",
        "plt.plot(range(10,10000,100), bin_search_timings,'gs')\n",
        "plt.plot(range(10,10000,100), hash_timings,'b^')\n",
        "plt.legend([r'Binary Search $\\mathcal{O}(\\log n)$',r'Hashing $\\mathcal{O}(1)$'],loc='best', fontsize=15);\n",
        "#plt.legend([Binary Search $|mathcal{0}(\\log n)$','Hashing $\\mathcal(0)(1)$'],loc='best', fontsize=15);\n",
        "plt.show()"
      ],
      "metadata": {
        "colab": {
          "base_uri": "https://localhost:8080/",
          "height": 486
        },
        "id": "mus9qvSebexM",
        "outputId": "0c95cae7-1eb6-4fd7-b8e6-bd20cc605518"
      },
      "execution_count": 59,
      "outputs": [
        {
          "output_type": "display_data",
          "data": {
            "text/plain": [
              "<Figure size 640x480 with 1 Axes>"
            ],
            "image/png": "[encoded data removed]"
          },
          "metadata": {}
        }
      ]
    },
    {
      "cell_type": "code",
      "source": [],
      "metadata": {
        "id": "bZiHOGxtZeZv"
      },
      "execution_count": null,
      "outputs": []
    }
  ]
}