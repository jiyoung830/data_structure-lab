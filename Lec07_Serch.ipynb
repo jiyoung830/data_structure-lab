{
  "nbformat": 4,
  "nbformat_minor": 0,
  "metadata": {
    "colab": {
      "provenance": [],
      "authorship_tag": "ABX9TyNoIJFgr9fMvH+KnkRCReFl",
      "include_colab_link": true
    },
    "kernelspec": {
      "name": "python3",
      "display_name": "Python 3"
    },
    "language_info": {
      "name": "python"
    }
  },
  "cells": [
    {
      "cell_type": "markdown",
      "metadata": {
        "id": "view-in-github",
        "colab_type": "text"
      },
      "source": [
        "<a href=\"https://colab.research.google.com/github/jiyoung830/data_structure-lab/blob/master/Lec07_Serch.ipynb\" target=\"_parent\"><img src=\"https://colab.research.google.com/assets/colab-badge.svg\" alt=\"Open In Colab\"/></a>"
      ]
    },
    {
      "cell_type": "markdown",
      "source": [
        "1.Multiplication Method"
      ],
      "metadata": {
        "id": "nKRR1mrSqKyH"
      }
    },
    {
      "cell_type": "code",
      "source": [
        "import math\n",
        "def multiplication_hash(k,m,A=(math.sqrt(5)-1/2)):\n",
        "  frac = k * A % 1\n",
        "  return math.floor(m * frac)"
      ],
      "metadata": {
        "id": "TQUZaoKGqJ1X"
      },
      "execution_count": 4,
      "outputs": []
    },
    {
      "cell_type": "markdown",
      "source": [
        "2. Folding Method"
      ],
      "metadata": {
        "id": "ecmVdtQ2qBZB"
      }
    },
    {
      "cell_type": "code",
      "source": [
        "import math\n",
        "def folding_hash(k,m, group = 2):\n",
        "  base = 10 ** group\n",
        "  s = 0\n",
        "  while k>0 :\n",
        "    s+= k % base\n",
        "    k //= base\n",
        "  return s % m\n",
        "\n"
      ],
      "metadata": {
        "id": "qlECH3H5qk3W"
      },
      "execution_count": 10,
      "outputs": []
    },
    {
      "cell_type": "markdown",
      "source": [
        "3. Mid-squaare Method"
      ],
      "metadata": {
        "id": "Xh8kJTUCqGYA"
      }
    },
    {
      "cell_type": "code",
      "source": [
        "import math\n",
        "def  mid_square_hash(k,m):\n",
        "  s = k ** 2\n",
        "  mid = (len(str(s))//2)    # 가운데 위치\n",
        "  return int(str(s)[mid:mid+2]) % m\n"
      ],
      "metadata": {
        "id": "DEHS-TIVrAMd"
      },
      "execution_count": 8,
      "outputs": []
    },
    {
      "cell_type": "code",
      "source": [
        "m = 16\n",
        "keys = [123,125,616]\n",
        "print(\"key | mult | fold | mid\")\n",
        "for k in keys:\n",
        "  print(f\"{k} | {multiplication_hash(k,m)} | {folding_hash(k,m)} | {mid_square_hash(k,m)}\")"
      ],
      "metadata": {
        "colab": {
          "base_uri": "https://localhost:8080/"
        },
        "id": "49ZKj-Uorfxs",
        "outputId": "ef693560-9f6f-4aaa-95f2-9e0b1126ba4e"
      },
      "execution_count": 16,
      "outputs": [
        {
          "output_type": "stream",
          "name": "stdout",
          "text": [
            "key | mult | fold | mid\n",
            "123 | 8 | 8 | 12\n",
            "125 | 0 | 10 | 14\n",
            "616 | 6 | 6 | 13\n"
          ]
        }
      ]
    },
    {
      "cell_type": "markdown",
      "source": [
        "6. Hashing\n"
      ],
      "metadata": {
        "id": "zykEnOfBpYiq"
      }
    },
    {
      "cell_type": "markdown",
      "source": [
        "hashing a string"
      ],
      "metadata": {
        "id": "-YqCr6CLpo_3"
      }
    },
    {
      "cell_type": "code",
      "source": [
        "ord('c')"
      ],
      "metadata": {
        "colab": {
          "base_uri": "https://localhost:8080/"
        },
        "id": "hdHG_xnIpntw",
        "outputId": "f6539bcf-02ad-4bcf-8537-aa77b60b644d"
      },
      "execution_count": 1,
      "outputs": [
        {
          "output_type": "execute_result",
          "data": {
            "text/plain": [
              "99"
            ]
          },
          "metadata": {},
          "execution_count": 1
        }
      ]
    },
    {
      "cell_type": "code",
      "source": [
        "ord('a')"
      ],
      "metadata": {
        "colab": {
          "base_uri": "https://localhost:8080/"
        },
        "id": "0gtg2JFkpw_V",
        "outputId": "10005329-9b97-48cf-d0be-b7eb9eb11daa"
      },
      "execution_count": 2,
      "outputs": [
        {
          "output_type": "execute_result",
          "data": {
            "text/plain": [
              "97"
            ]
          },
          "metadata": {},
          "execution_count": 2
        }
      ]
    },
    {
      "cell_type": "code",
      "source": [
        "ord('t')"
      ],
      "metadata": {
        "colab": {
          "base_uri": "https://localhost:8080/"
        },
        "id": "GCe9oBqypwvD",
        "outputId": "649f61fe-1cd6-4933-deb7-7bbc73f97638"
      },
      "execution_count": 3,
      "outputs": [
        {
          "output_type": "execute_result",
          "data": {
            "text/plain": [
              "116"
            ]
          },
          "metadata": {},
          "execution_count": 3
        }
      ]
    },
    {
      "cell_type": "code",
      "source": [
        "def hash(a_string, table_size):\n",
        "  sum = 0\n",
        "  for pos in range(len(a_string)):\n",
        "    sum = sum + pos*ord(a_string[pos])\n",
        "\n",
        "  return sum % table_size"
      ],
      "metadata": {
        "id": "FynJUrpssuR0"
      },
      "execution_count": 17,
      "outputs": []
    }
  ]
}